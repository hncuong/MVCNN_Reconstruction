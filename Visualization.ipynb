{
 "cells": [
  {
   "cell_type": "code",
   "execution_count": 1,
   "id": "0449cd08",
   "metadata": {
    "scrolled": true
   },
   "outputs": [
    {
     "name": "stdout",
     "output_type": "stream",
     "text": [
      "Pillow Version: 7.2.0\n"
     ]
    },
    {
     "data": {
      "text/plain": [
       "True"
      ]
     },
     "execution_count": 1,
     "metadata": {},
     "output_type": "execute_result"
    }
   ],
   "source": [
    "%load_ext autoreload\n",
    "%autoreload 2\n",
    "from pathlib import Path\n",
    "import numpy as np\n",
    "import matplotlib as plt\n",
    "import k3d\n",
    "import trimesh\n",
    "import torch\n",
    "import skimage\n",
    "import torchvision\n",
    "\n",
    "import PIL\n",
    "print('Pillow Version:', PIL.__version__)\n",
    "torch.cuda.is_available()"
   ]
  },
  {
   "cell_type": "code",
   "execution_count": 2,
   "id": "555b4222",
   "metadata": {},
   "outputs": [],
   "source": [
    "from mvcnn_rec.util.visualization import visualize_occupancy\n"
   ]
  },
  {
   "cell_type": "code",
   "execution_count": 3,
   "id": "21e9a936",
   "metadata": {},
   "outputs": [],
   "source": [
    "from mvcnn_rec.inference.infer_mvcnn_rec import InferenceHandlerMVCNNReconstruction\n",
    "from mvcnn_rec.training.validation import compute_iou_2_voxels"
   ]
  },
  {
   "cell_type": "markdown",
   "id": "b12ae062",
   "metadata": {},
   "source": [
    "# Visualize"
   ]
  },
  {
   "cell_type": "code",
   "execution_count": 4,
   "id": "ea45cfd8",
   "metadata": {},
   "outputs": [],
   "source": [
    "from mvcnn_rec.inference.visualization_mvcnn_rec import MVCNN_Rec_Visualizer\n",
    "from mvcnn_rec.util.visualization import visualize_occupancy"
   ]
  },
  {
   "cell_type": "code",
   "execution_count": 5,
   "id": "50d06e54",
   "metadata": {},
   "outputs": [],
   "source": [
    "visualizer1 = MVCNN_Rec_Visualizer('mvcnn_rec/runs/model_best_1views.ckpt', num_views=1)"
   ]
  },
  {
   "cell_type": "code",
   "execution_count": 6,
   "id": "f6db4180",
   "metadata": {},
   "outputs": [],
   "source": [
    "visualizer3 = MVCNN_Rec_Visualizer('mvcnn_rec/runs/model_best_3views.ckpt', num_views=3)"
   ]
  },
  {
   "cell_type": "code",
   "execution_count": 7,
   "id": "628896f8",
   "metadata": {},
   "outputs": [],
   "source": [
    "visualizer12 = MVCNN_Rec_Visualizer('mvcnn_rec/runs/model_best_12views.ckpt', num_views=12)"
   ]
  },
  {
   "cell_type": "code",
   "execution_count": 8,
   "id": "73db7366",
   "metadata": {},
   "outputs": [
    {
     "name": "stdout",
     "output_type": "stream",
     "text": [
      "test dataset - Id 1139\n",
      "Name: 02828884/9c32648f1412d8a6db6e463bda4c63ae\n",
      "Images Dimensions: torch.Size([1, 3, 224, 224])\n",
      "Voxel Dimensions: (32, 32, 32)\n",
      "Label: bench\n"
     ]
    },
    {
     "data": {
      "text/plain": [
       "1139"
      ]
     },
     "execution_count": 8,
     "metadata": {},
     "output_type": "execute_result"
    }
   ],
   "source": [
    "shape_id = visualizer1.random_shape_id('test')\n",
    "sample = visualizer1.get_shape(shape_id)\n",
    "shape_id"
   ]
  },
  {
   "cell_type": "code",
   "execution_count": 9,
   "id": "d9b28212",
   "metadata": {
    "scrolled": true
   },
   "outputs": [
    {
     "data": {
      "application/vnd.jupyter.widget-view+json": {
       "model_id": "47fd0dc6a5854284b06ad291d961c2f5",
       "version_major": 2,
       "version_minor": 0
      },
      "text/plain": [
       "Output()"
      ]
     },
     "metadata": {},
     "output_type": "display_data"
    }
   ],
   "source": [
    "visualize_occupancy(sample[\"voxel\"], flip_axes=True)"
   ]
  },
  {
   "cell_type": "code",
   "execution_count": 10,
   "id": "7094c600",
   "metadata": {},
   "outputs": [
    {
     "name": "stdout",
     "output_type": "stream",
     "text": [
      "test dataset - Id 1139\n",
      "Name: 02828884/9c32648f1412d8a6db6e463bda4c63ae\n",
      "Images Dimensions: torch.Size([1, 3, 224, 224])\n",
      "Voxel Dimensions: (32, 32, 32)\n",
      "Label: bench\n"
     ]
    },
    {
     "data": {
      "text/plain": [
       "('bench', 0.3323057953144266)"
      ]
     },
     "execution_count": 10,
     "metadata": {},
     "output_type": "execute_result"
    }
   ],
   "source": [
    "sample, class_name, predited_voxel, iou = visualizer1.get_predict_shape_id(shape_id, 'test')\n",
    "class_name, iou"
   ]
  },
  {
   "cell_type": "code",
   "execution_count": 11,
   "id": "57bb5453",
   "metadata": {},
   "outputs": [
    {
     "data": {
      "text/plain": [
       "(32, 32, 32)"
      ]
     },
     "execution_count": 11,
     "metadata": {},
     "output_type": "execute_result"
    }
   ],
   "source": [
    "predited_voxel.shape"
   ]
  },
  {
   "cell_type": "code",
   "execution_count": 12,
   "id": "75ceaf50",
   "metadata": {
    "scrolled": true
   },
   "outputs": [
    {
     "data": {
      "application/vnd.jupyter.widget-view+json": {
       "model_id": "a55327d793be456f965ea661e7ea41c0",
       "version_major": 2,
       "version_minor": 0
      },
      "text/plain": [
       "Output()"
      ]
     },
     "metadata": {},
     "output_type": "display_data"
    }
   ],
   "source": [
    "visualize_occupancy(predited_voxel, flip_axes=True)"
   ]
  },
  {
   "cell_type": "code",
   "execution_count": 13,
   "id": "a98e85cb",
   "metadata": {},
   "outputs": [
    {
     "name": "stdout",
     "output_type": "stream",
     "text": [
      "test dataset - Id 1139\n",
      "Name: 02828884/9c32648f1412d8a6db6e463bda4c63ae\n",
      "Images Dimensions: torch.Size([3, 3, 224, 224])\n",
      "Voxel Dimensions: (32, 32, 32)\n",
      "Label: bench\n"
     ]
    },
    {
     "data": {
      "text/plain": [
       "('bench', 0.48758584257791865)"
      ]
     },
     "execution_count": 13,
     "metadata": {},
     "output_type": "execute_result"
    }
   ],
   "source": [
    "sample, class_name, predited_voxel, iou = visualizer3.get_predict_shape_id(shape_id, 'test')\n",
    "class_name, iou"
   ]
  },
  {
   "cell_type": "code",
   "execution_count": 14,
   "id": "070417cc",
   "metadata": {},
   "outputs": [
    {
     "data": {
      "application/vnd.jupyter.widget-view+json": {
       "model_id": "3a60acd920a941589e870e2bab412f70",
       "version_major": 2,
       "version_minor": 0
      },
      "text/plain": [
       "Output()"
      ]
     },
     "metadata": {},
     "output_type": "display_data"
    }
   ],
   "source": [
    "visualize_occupancy(predited_voxel, flip_axes=True)"
   ]
  },
  {
   "cell_type": "code",
   "execution_count": 15,
   "id": "42d7c81b",
   "metadata": {},
   "outputs": [
    {
     "name": "stdout",
     "output_type": "stream",
     "text": [
      "test dataset - Id 1139\n",
      "Name: 02828884/9c32648f1412d8a6db6e463bda4c63ae\n",
      "Images Dimensions: torch.Size([12, 3, 224, 224])\n",
      "Voxel Dimensions: (32, 32, 32)\n",
      "Label: bench\n"
     ]
    },
    {
     "data": {
      "text/plain": [
       "('bench', 0.5811074918566775)"
      ]
     },
     "execution_count": 15,
     "metadata": {},
     "output_type": "execute_result"
    }
   ],
   "source": [
    "sample, class_name, predited_voxel, iou = visualizer12.get_predict_shape_id(shape_id, 'test')\n",
    "class_name, iou"
   ]
  },
  {
   "cell_type": "code",
   "execution_count": 16,
   "id": "76661f6a",
   "metadata": {},
   "outputs": [
    {
     "data": {
      "application/vnd.jupyter.widget-view+json": {
       "model_id": "c4a80aea7337428385eb92c01e8620de",
       "version_major": 2,
       "version_minor": 0
      },
      "text/plain": [
       "Output()"
      ]
     },
     "metadata": {},
     "output_type": "display_data"
    }
   ],
   "source": [
    "visualize_occupancy(predited_voxel, flip_axes=True)"
   ]
  },
  {
   "cell_type": "code",
   "execution_count": null,
   "id": "f700a33b",
   "metadata": {},
   "outputs": [],
   "source": []
  }
 ],
 "metadata": {
  "kernelspec": {
   "display_name": "Python 3 (ipykernel)",
   "language": "python",
   "name": "python3"
  },
  "language_info": {
   "codemirror_mode": {
    "name": "ipython",
    "version": 3
   },
   "file_extension": ".py",
   "mimetype": "text/x-python",
   "name": "python",
   "nbconvert_exporter": "python",
   "pygments_lexer": "ipython3",
   "version": "3.8.10"
  }
 },
 "nbformat": 4,
 "nbformat_minor": 5
}
