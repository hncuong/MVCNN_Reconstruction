{
 "cells": [
  {
   "cell_type": "code",
   "execution_count": 1,
   "id": "decb2093",
   "metadata": {},
   "outputs": [
    {
     "name": "stdout",
     "output_type": "stream",
     "text": [
      "Pillow Version: 7.2.0\n"
     ]
    },
    {
     "data": {
      "text/plain": [
       "False"
      ]
     },
     "execution_count": 1,
     "metadata": {},
     "output_type": "execute_result"
    }
   ],
   "source": [
    "import torch\n",
    "import PIL\n",
    "\n",
    "\n",
    "print('Pillow Version:', PIL.__version__)\n",
    "torch.cuda.is_available()"
   ]
  },
  {
   "cell_type": "code",
   "execution_count": 3,
   "id": "f9b78a93",
   "metadata": {
    "scrolled": true
   },
   "outputs": [
    {
     "data": {
      "text/plain": [
       "-1"
      ]
     },
     "execution_count": 3,
     "metadata": {},
     "output_type": "execute_result"
    }
   ],
   "source": [
    "import cv2\n",
    "img = cv2.imread(\".\\\\datasets\\\\ShapeNetRendering\\\\02691156\\\\1a32f10b20170883663e90eaf6b4ca52\\\\rendering\\\\00.png\", cv2.IMREAD_UNCHANGED)\n",
    "cv2.imshow('image', img)\n",
    "cv2.waitKey(0)"
   ]
  },
  {
   "cell_type": "code",
   "execution_count": 2,
   "id": "730a392a",
   "metadata": {},
   "outputs": [
    {
     "data": {
      "text/plain": [
       "dict_items([('log', False), ('debug', True)])"
      ]
     },
     "execution_count": 2,
     "metadata": {},
     "output_type": "execute_result"
    }
   ],
   "source": [
    "from easydict import EasyDict as edict\n",
    "\n",
    "d = edict(log=False)\n",
    "d.debug = True\n",
    "d.items()"
   ]
  },
  {
   "cell_type": "code",
   "execution_count": 7,
   "id": "e4df6df0",
   "metadata": {},
   "outputs": [
    {
     "data": {
      "text/plain": [
       "{'color': 'red'}"
      ]
     },
     "execution_count": 7,
     "metadata": {},
     "output_type": "execute_result"
    }
   ],
   "source": [
    "classes = {}\n",
    "classes[\"color\"] = \"red\"\n",
    "\n",
    "classes"
   ]
  },
  {
   "cell_type": "code",
   "execution_count": 8,
   "id": "aaf1548d",
   "metadata": {
    "scrolled": true
   },
   "outputs": [
    {
     "name": "stdout",
     "output_type": "stream",
     "text": [
      "./datasets/ShapeNet_complete.json\n",
      "./datasets/ShapeNet_complete.json\n",
      "Length of train set: 30642\n",
      "Length of val set: 4371\n",
      "item: 02958343/936eb7eec6b76e4b421c2195de5e56c4\n",
      "(23, 137, 137, 4)\n"
     ]
    }
   ],
   "source": [
    "from pygments import highlight\n",
    "from pygments.lexers import PythonLexer\n",
    "from pygments.formatters import HtmlFormatter\n",
    "import IPython\n",
    "\n",
    "from mvcnn_rec.data.shapenet import ShapeNetMultiview\n",
    "from config import cfg\n",
    "import json\n",
    "import os\n",
    "\n",
    "\n",
    "train_dataset = ShapeNetMultiview('train')\n",
    "val_dataset = ShapeNetMultiview('val')\n",
    "\n",
    "print(f'Length of train set: {len(train_dataset)}')\n",
    "print(f'Length of val set: {len(val_dataset)}')\n",
    "\n",
    "train_sample = train_dataset[5555]\n",
    "print(train_sample[\"item\"].shape)\n"
   ]
  },
  {
   "cell_type": "code",
   "execution_count": 9,
   "id": "9eb19b9f",
   "metadata": {},
   "outputs": [
    {
     "name": "stdout",
     "output_type": "stream",
     "text": [
      "Name: 02958343/936eb7eec6b76e4b421c2195de5e56c4\n",
      "Voxel Dimensions: (1, 32, 32, 32)\n",
      "Label: car\n"
     ]
    },
    {
     "data": {
      "application/vnd.jupyter.widget-view+json": {
       "model_id": "0a8c0e6dd89245b8a8128d6bf054b10c",
       "version_major": 2,
       "version_minor": 0
      },
      "text/plain": [
       "Output()"
      ]
     },
     "metadata": {},
     "output_type": "display_data"
    }
   ],
   "source": [
    "# Visualize some shapes\n",
    "from mvcnn_rec.util.visualization import visualize_occupancy\n",
    "\n",
    "print(f'Name: {train_sample[\"name\"]}')\n",
    "print(f'Voxel Dimensions: {train_sample[\"voxel\"].shape}')\n",
    "print(f'Label: {train_sample[\"label\"]}')\n",
    "\n",
    "visualize_occupancy(train_sample[\"voxel\"].squeeze(), flip_axes=True)"
   ]
  },
  {
   "cell_type": "code",
   "execution_count": null,
   "id": "32d0c9d4",
   "metadata": {},
   "outputs": [],
   "source": []
  },
  {
   "cell_type": "code",
   "execution_count": null,
   "id": "1aa8d63c",
   "metadata": {},
   "outputs": [],
   "source": []
  }
 ],
 "metadata": {
  "kernelspec": {
   "display_name": "Python 3 (ipykernel)",
   "language": "python",
   "name": "python3"
  },
  "language_info": {
   "codemirror_mode": {
    "name": "ipython",
    "version": 3
   },
   "file_extension": ".py",
   "mimetype": "text/x-python",
   "name": "python",
   "nbconvert_exporter": "python",
   "pygments_lexer": "ipython3",
   "version": "3.8.10"
  },
  "toc": {
   "base_numbering": 1,
   "nav_menu": {},
   "number_sections": false,
   "sideBar": true,
   "skip_h1_title": false,
   "title_cell": "Table of Contents",
   "title_sidebar": "Contents",
   "toc_cell": false,
   "toc_position": {},
   "toc_section_display": true,
   "toc_window_display": true
  }
 },
 "nbformat": 4,
 "nbformat_minor": 5
}
